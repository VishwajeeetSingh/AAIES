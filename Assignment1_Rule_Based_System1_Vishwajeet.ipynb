{
  "cells": [
    {
      "cell_type": "markdown",
      "metadata": {
        "id": "view-in-github",
        "colab_type": "text"
      },
      "source": [
        "<a href=\"https://colab.research.google.com/github/VishwajeeetSingh/AAIES/blob/main/Assignment1_Rule_Based_System1_Vishwajeet.ipynb\" target=\"_parent\"><img src=\"https://colab.research.google.com/assets/colab-badge.svg\" alt=\"Open In Colab\"/></a>"
      ]
    },
    {
      "cell_type": "markdown",
      "metadata": {
        "id": "5r2msEl9py3R"
      },
      "source": [
        "<b>The Problem Statement</b>:\n",
        "\n",
        "You are tasked with creating a simple rule-based pet care assistant in Python. The goal is to develop a basic program that provides helpful reminders and suggestions for taking care of different types of pets, such as dogs, cats, and birds, based on predefined rules.\n",
        "\n",
        "<b>Some Rules to get you started</b>:\n",
        "\n",
        "*Example of a rule for dogs:* If the dog is a puppy (i.e. less than 2 years old) frequent training may be needed.\n",
        "\n",
        "*Example of a rule for cats:* If the cat's health is poor one may needed to monitor their cat closely and consult a vet for any health issues."
      ]
    },
    {
      "cell_type": "markdown",
      "metadata": {
        "id": "hi0nFuvoppT9"
      },
      "source": [
        "## The Code"
      ]
    },
    {
      "cell_type": "markdown",
      "metadata": {
        "id": "WZrvsX8_ri3a"
      },
      "source": [
        "### Function to get the user's pet choice"
      ]
    },
    {
      "cell_type": "code",
      "execution_count": 8,
      "metadata": {
        "id": "eZOS63c-rij3",
        "colab": {
          "base_uri": "https://localhost:8080/"
        },
        "outputId": "f2c7d79a-5658-4bce-e655-2865baa711fe"
      },
      "outputs": [
        {
          "output_type": "stream",
          "name": "stdout",
          "text": [
            "What type of pet do you have?\n",
            "1. Dog\n",
            "2. Cat\n",
            "3. Bird\n",
            "Enter the number corresponding to your pet type: 1\n",
            "You have a dog.\n"
          ]
        }
      ],
      "source": [
        "# Function to get the user's pet choice\n",
        "def get_pet_choice():\n",
        "\n",
        "    \"\"\"\n",
        "    TODO: Implement this function to display the pet options and return the user's choice.\n",
        "    The function should prompt the user to select the type of pet (e.g., dog, cat, bird) and\n",
        "    return the corresponding number representing the pet type.\n",
        "    \"\"\"\n",
        "    print(\"What type of pet do you have?\")\n",
        "    print(\"1. Dog\")\n",
        "    print(\"2. Cat\")\n",
        "    print(\"3. Bird\")\n",
        "\n",
        "    while True:\n",
        "        try:\n",
        "            pet_choice = int(input(\"Enter the number corresponding to your pet type: \"))\n",
        "            if pet_choice in (1, 2, 3):\n",
        "                return pet_choice\n",
        "            else:\n",
        "                print(\"Invalid choice. Please enter 1, 2, or 3.\")\n",
        "        except ValueError:\n",
        "            print(\"Invalid input. Please enter a valid number (1, 2, or 3).\")\n",
        "\n",
        "pet_type = get_pet_choice()\n",
        "\n",
        "if pet_type == 1:\n",
        "    print(\"You have a dog.\")\n",
        "elif pet_type == 2:\n",
        "    print(\"You have a cat.\")\n",
        "elif pet_type == 3:\n",
        "    print(\"You have a bird.\")\n"
      ]
    },
    {
      "cell_type": "markdown",
      "metadata": {
        "id": "ih-mnNqnvI6N"
      },
      "source": [
        "### Function to get pet's age and health as input from user"
      ]
    },
    {
      "cell_type": "code",
      "execution_count": 12,
      "metadata": {
        "id": "bOmAKcsmvGkM",
        "colab": {
          "base_uri": "https://localhost:8080/"
        },
        "outputId": "6096f941-bc42-409c-b54a-3fafbe6da3f8"
      },
      "outputs": [
        {
          "output_type": "stream",
          "name": "stdout",
          "text": [
            "Enter your pet's age in years: 25\n",
            "Please enter a valid positive number for the pet's age.\n",
            "Enter your pet's age in years: 23\n",
            "Please enter a valid positive number for the pet's age.\n",
            "Enter your pet's age in years: 20\n",
            "Your pet is 20 years old.\n"
          ]
        }
      ],
      "source": [
        "\n",
        "def get_pet_age():\n",
        "    \"\"\"\n",
        "    Get the pet's age from the user, handling invalid input.\n",
        "    \"\"\"\n",
        "    while True:\n",
        "        try:\n",
        "            pet_age = int(input(\"Enter your pet's age in years: \"))\n",
        "            if pet_age > 0 and pet_age<=20:\n",
        "                return pet_age\n",
        "            else:\n",
        "                print(\"Please enter a valid positive number for the pet's age.\")\n",
        "        except ValueError:\n",
        "            print(\"Invalid input. Please enter a valid number for the pet's age.\")\n",
        "\n",
        "pet_age = get_pet_age()\n",
        "\n",
        "print(\"Your pet is {} years old.\".format(pet_age))\n",
        "\n"
      ]
    },
    {
      "cell_type": "code",
      "execution_count": 10,
      "metadata": {
        "id": "31-njL3fvIEn",
        "colab": {
          "base_uri": "https://localhost:8080/"
        },
        "outputId": "d2dd85d6-1eaa-4c2a-cb61-f270f8794e7e"
      },
      "outputs": [
        {
          "output_type": "stream",
          "name": "stdout",
          "text": [
            "What is your pet's health status? (good/fair/poor): 2\n",
            "Your pet's health status is poor.\n"
          ]
        }
      ],
      "source": [
        "# Function to get the pet's health status from the user\n",
        "def get_pet_health():\n",
        "    \"\"\"\n",
        "    TODO: Implement this function to get the pet's health status from the user.\n",
        "    The function should prompt the user to select the health status (e.g., good, fair, poor) and\n",
        "    return the corresponding number representing the health status.\n",
        "    \"\"\"\n",
        "\n",
        "    health_statuses = {\n",
        "        \"good\": 1,\n",
        "        \"fair\": 2,\n",
        "        \"poor\": 3,\n",
        "    }\n",
        "\n",
        "    health_status = input(\"What is your pet's health status? (good/fair/poor): \")\n",
        "\n",
        "\n",
        "pet_health = get_pet_health()\n",
        "if pet_health == 1:\n",
        "    print(\"Your pet's health status is good.\")\n",
        "elif pet_health == 2:\n",
        "    print(\"Your pet's health status is fair.\")\n",
        "else:\n",
        "    print(\"Your pet's health status is poor.\")"
      ]
    },
    {
      "cell_type": "markdown",
      "metadata": {
        "id": "10mIZiAxrIWD"
      },
      "source": [
        "### Function for rules for providing pet care tips"
      ]
    },
    {
      "cell_type": "code",
      "execution_count": 11,
      "metadata": {
        "id": "EIpHv9ckpYzh",
        "colab": {
          "base_uri": "https://localhost:8080/"
        },
        "outputId": "61cf799c-535c-4f5b-8804-eef0fed9de05"
      },
      "outputs": [
        {
          "output_type": "stream",
          "name": "stdout",
          "text": [
            "What type of pet do you have?\n",
            "1. Dog\n",
            "2. Cat\n",
            "3. Bird\n",
            "Enter the number corresponding to your pet type: 1\n",
            "Enter your pet's age in years: 23\n",
            "What is your pet's health status? (good/fair/poor): 2\n",
            "Here are some pet care tips for your pet:\n",
            "Take your dog for walks regularly.\n",
            "Make sure your dog has plenty of exercise.\n"
          ]
        }
      ],
      "source": [
        "# Function to provide pet care tips based on the user's choice, age, and health\n",
        "def provide_pet_care_tips(pet_choice, pet_age, pet_health):\n",
        "    \"\"\"\n",
        "    TODO: Implement this function to provide pet care tips based on the user's choices.\n",
        "    The function should take the pet_choice (representing the type of pet), pet_age (in years),\n",
        "    and pet_health (representing the health status) as inputs and print relevant care tips based on those.\n",
        "    \"\"\"\n",
        "\n",
        "    if pet_choice == 1:\n",
        "        if pet_age < 2:\n",
        "            tips = [\"Frequent training may be needed.\", \"Take your dog for walks regularly.\"]\n",
        "        elif pet_age >= 2:\n",
        "            tips = [\"Take your dog for walks regularly.\", \"Make sure your dog has plenty of exercise.\"]\n",
        "    elif pet_choice == 2:\n",
        "        if pet_health == 3:\n",
        "            tips = [\"Monitor your cat closely.\", \"Consult a vet for any health issues.\"]\n",
        "        else:\n",
        "            tips = [\"Make sure your cat has plenty of food and water.\", \"Provide your cat with a safe place to sleep.\"]\n",
        "    elif pet_choice == 3:\n",
        "        tips = [\"Clean your bird's cage regularly.\", \"Provide your bird with fresh food and water daily.\"]\n",
        "\n",
        "\n",
        "    print(\"Here are some pet care tips for your pet:\")\n",
        "    for tip in tips:\n",
        "        print(tip)\n",
        "\n",
        "pet_choice = get_pet_choice()\n",
        "pet_age = get_pet_age()\n",
        "pet_health = get_pet_health()\n",
        "\n",
        "provide_pet_care_tips(pet_choice, pet_age, pet_health)\n",
        "\n"
      ]
    },
    {
      "cell_type": "markdown",
      "metadata": {
        "id": "GIJtbG2UrtJM"
      },
      "source": [
        "### Main function to run the pet care assistant"
      ]
    },
    {
      "cell_type": "code",
      "execution_count": null,
      "metadata": {
        "id": "Sfqbwb0du179"
      },
      "outputs": [],
      "source": [
        "# Main function to run the pet care assistant\n",
        "def pet_care_assistant():\n",
        "    \"\"\"\n",
        "    TODO: Implement this function as the entry point to the pet care assistant program.\n",
        "    The function should call the get_pet_choice(), get_pet_age(), and get_pet_health() functions\n",
        "    to collect the necessary information from the user. Then, it should call the provide_pet_care_tips()\n",
        "    function to provide personalized care tips based on the user's inputs.\n",
        "    \"\"\"\n",
        "    pet_choice = get_pet_choice()\n",
        "    pet_age = get_pet_age()\n",
        "    pet_health = get_pet_health()\n",
        "\n",
        "    provide_pet_care_tips(pet_choice, pet_age, pet_health)\n"
      ]
    },
    {
      "cell_type": "code",
      "execution_count": null,
      "metadata": {
        "id": "Bm-vnwCvrxy4",
        "outputId": "0e0b4913-8f6a-4da6-fb8b-079b2718ebb8"
      },
      "outputs": [
        {
          "name": "stdout",
          "output_type": "stream",
          "text": [
            "What type of pet do you have?\n",
            "1. Dog\n",
            "2. Cat\n",
            "3. Bird\n",
            "Enter the number corresponding to your pet type: 1\n",
            "Enter your pet's age in years: 1\n",
            "What is your pet's health status? (good/fair/poor): fair\n",
            "Here are some pet care tips for your pet:\n",
            "Frequent training may be needed.\n",
            "Take your dog for walks regularly.\n"
          ]
        }
      ],
      "source": [
        "# Run the program\n",
        "if __name__ == \"__main__\":\n",
        "    pet_care_assistant()  # Start the pet care assistant"
      ]
    }
  ],
  "metadata": {
    "colab": {
      "provenance": [],
      "include_colab_link": true
    },
    "kernelspec": {
      "display_name": "Python 3 (ipykernel)",
      "language": "python",
      "name": "python3"
    },
    "language_info": {
      "codemirror_mode": {
        "name": "ipython",
        "version": 3
      },
      "file_extension": ".py",
      "mimetype": "text/x-python",
      "name": "python",
      "nbconvert_exporter": "python",
      "pygments_lexer": "ipython3",
      "version": "3.9.12"
    }
  },
  "nbformat": 4,
  "nbformat_minor": 0
}